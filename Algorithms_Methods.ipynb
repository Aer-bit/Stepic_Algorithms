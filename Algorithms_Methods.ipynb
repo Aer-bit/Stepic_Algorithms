{
 "cells": [
  {
   "cell_type": "code",
   "execution_count": null,
   "metadata": {},
   "outputs": [],
   "source": [
    "# Part 1: Intro"
   ]
  },
  {
   "cell_type": "code",
   "execution_count": null,
   "metadata": {},
   "outputs": [],
   "source": [
    "# Fibonacci numbers:iterative algorithm"
   ]
  },
  {
   "cell_type": "code",
   "execution_count": null,
   "metadata": {},
   "outputs": [],
   "source": [
    "def fib(n):\n",
    "    # put your code here\n",
    "    F = [0, 1]\n",
    "    for i in range(2, n+1):\n",
    "        F.append(F[i-1] + F[i-2])\n",
    "    return F[n]\n",
    "def main():\n",
    "    n = int(input())\n",
    "    print(fib(n))"
   ]
  },
  {
   "cell_type": "code",
   "execution_count": null,
   "metadata": {},
   "outputs": [],
   "source": [
    "# Fibonacci numbers: get the last digit of a number"
   ]
  },
  {
   "cell_type": "code",
   "execution_count": null,
   "metadata": {},
   "outputs": [],
   "source": [
    "def fib_digit(n):\n",
    "    F = [0, 1]\n",
    "    for i in range(2, n+1):\n",
    "        F.append(F[i-1]%10 + F[i-2]%10)\n",
    "    return F[n] % 10\n",
    "\n",
    "def main():\n",
    "    n = int(input())\n",
    "    print(fib_digit(n))\n"
   ]
  },
  {
   "cell_type": "code",
   "execution_count": null,
   "metadata": {},
   "outputs": [],
   "source": [
    "# Fibonacci numbers: Pisano Period"
   ]
  },
  {
   "cell_type": "code",
   "execution_count": null,
   "metadata": {},
   "outputs": [],
   "source": [
    "def fib_mod(n, m):\n",
    "    F = [0, 1]\n",
    "    period = 6*m\n",
    "    for i in range(2, period+2):\n",
    "        F.append((F[i-1] + F[i-2])%m)\n",
    "        if (F[i] == 1) & (F[i-1] == 0):\n",
    "            return F[n%(i-1)]\n",
    "    return F[n]%m\n",
    "\n",
    "def main():\n",
    "    n, m = map(int, input().split())\n",
    "    print(fib_mod(n, m))"
   ]
  },
  {
   "cell_type": "code",
   "execution_count": null,
   "metadata": {},
   "outputs": [],
   "source": [
    "# Find greatest common divisor"
   ]
  },
  {
   "cell_type": "code",
   "execution_count": null,
   "metadata": {},
   "outputs": [],
   "source": [
    "def gcd(a, b):\n",
    "    if a == 0:\n",
    "        return b\n",
    "    elif b == 0:\n",
    "        return a\n",
    "    elif a > b:\n",
    "        return gcd(a%b, b)\n",
    "    elif a < b:\n",
    "        return gcd(a, b%a)\n",
    "    else:\n",
    "        return a\n",
    "        \n",
    "def main():\n",
    "    a, b = map(int, input().split())\n",
    "    print(gcd(a, b))"
   ]
  },
  {
   "cell_type": "code",
   "execution_count": null,
   "metadata": {},
   "outputs": [],
   "source": [
    "# Part 2: Greedy Algorithms"
   ]
  },
  {
   "cell_type": "code",
   "execution_count": null,
   "metadata": {},
   "outputs": [],
   "source": [
    "# Cover line segments with dots "
   ]
  },
  {
   "cell_type": "code",
   "execution_count": null,
   "metadata": {},
   "outputs": [],
   "source": [
    "n = int(input())\n",
    "vects = []\n",
    "dots = []\n",
    "for i in range(n):\n",
    "    x_1, x_2 = map(int, input().split())\n",
    "    vects.append((x_1, x_2))\n",
    "vects.sort(key=lambda x:x[1])\n",
    "dots.append(vects[0][1])\n",
    "while vects:\n",
    "    if (vects[0][1] >= dots[-1]) & (vects[0][0] <= dots[-1]):\n",
    "        vects.pop(0)\n",
    "    else:\n",
    "        dots.append(vects[0][1])\n",
    "print(len(set(dots)))\n",
    "print(*dots)"
   ]
  },
  {
   "cell_type": "code",
   "execution_count": null,
   "metadata": {},
   "outputs": [],
   "source": [
    "# Thiefs bag"
   ]
  },
  {
   "cell_type": "code",
   "execution_count": null,
   "metadata": {},
   "outputs": [],
   "source": [
    "n, space = map(int, input().split())\n",
    "bag = []\n",
    "tot = 0\n",
    "for i in range(n):\n",
    "    bag.append(map(float, input().split()))\n",
    "bag = [*map(list, bag)]\n",
    "bag.sort(key=lambda x: (x[0]/x[1]), reverse=True)\n",
    "while (space > 0) & (len(bag)>0):\n",
    "    if bag[0][1] <= space:\n",
    "        tot = tot + bag[0][0]\n",
    "        space = space - bag[0][1]\n",
    "        bag.pop(0)\n",
    "    else:\n",
    "        bag[0][0] = (space / bag[0][1])*bag[0][0]\n",
    "        bag[0][1] = space\n",
    "print('{:.3f}'.format(tot))"
   ]
  },
  {
   "cell_type": "code",
   "execution_count": 121,
   "metadata": {},
   "outputs": [],
   "source": [
    "# Split numbers into terms"
   ]
  },
  {
   "cell_type": "code",
   "execution_count": 2,
   "metadata": {},
   "outputs": [
    {
     "name": "stdout",
     "output_type": "stream",
     "text": [
      "6\n",
      "3\n",
      "1 2 3\n"
     ]
    }
   ],
   "source": [
    "n = int(input())\n",
    "temp = n\n",
    "res = []\n",
    "if n == 1:\n",
    "    print(1)\n",
    "    print(1)\n",
    "elif n == 2:\n",
    "    print(1)\n",
    "    print(2)\n",
    "elif (n > 2) & (n <=5):\n",
    "    print(2)\n",
    "    print(1, n-1)\n",
    "else:\n",
    "    for i in range(1, n+1):\n",
    "        n = n - i\n",
    "        if n >= (i+1):\n",
    "            res.append(i)\n",
    "        else:\n",
    "            res.append(temp-sum(res))\n",
    "            break\n",
    "    print(len(res))\n",
    "    print(*res)"
   ]
  },
  {
   "cell_type": "code",
   "execution_count": null,
   "metadata": {},
   "outputs": [],
   "source": [
    "# Huffman encoding"
   ]
  },
  {
   "cell_type": "code",
   "execution_count": null,
   "metadata": {},
   "outputs": [],
   "source": [
    "from collections import Counter\n",
    "s = input()\n",
    "d = Counter(s)\n",
    "list_d = list(d.items())\n",
    "vars_un = list(d.keys())\n",
    "d_new = []\n",
    "d_code = {var: str() for var in vars_un}\n",
    "code = str()\n",
    "\n",
    "while len(list_d) > 1:\n",
    "    list_d.sort(key=lambda i: i[1])\n",
    "    list_d.append((list_d[0][0] + list_d[1][0], list_d[0][1] + list_d[1][1]))\n",
    "    d_new.insert(0, (list_d[1][0], 1))\n",
    "    d_new.insert(0, (list_d[0][0], 0))\n",
    "    list_d.pop(0)\n",
    "    list_d.pop(0)\n",
    "\n",
    "for var in vars_un:\n",
    "    for el in d_new:\n",
    "        if var in el[0]:\n",
    "            d_code[var] += str(el[1])\n",
    "\n",
    "if len(vars_un) <= 1:\n",
    "    print(len(vars_un), len(s))\n",
    "    print(vars_un[0] + ': ' + '0')\n",
    "    print('0'*len(s))\n",
    "else:\n",
    "    for char in s:\n",
    "        code += d_code.get(char)\n",
    "    print(len(vars_un), len(code))\n",
    "    for key in d_code.keys():\n",
    "        print(key + ': ' + d_code.get(key))\n",
    "    print(code)                  "
   ]
  },
  {
   "cell_type": "code",
   "execution_count": null,
   "metadata": {},
   "outputs": [],
   "source": [
    "# Huffman decoding"
   ]
  },
  {
   "cell_type": "code",
   "execution_count": null,
   "metadata": {},
   "outputs": [],
   "source": [
    "n, l = map(int,  input().split())\n",
    "d = {}\n",
    "ans = str()\n",
    "for i in range(n):\n",
    "    s = input()\n",
    "    d.update({s[0]: s[3:]})\n",
    "code = input()\n",
    "while len(code) > 0:\n",
    "    for key in d:\n",
    "        for i in range(1, len(d.get(key))+1):\n",
    "            if code[:i] == d.get(key):\n",
    "                ans += key\n",
    "                code = code[i:]\n",
    "print(ans)"
   ]
  },
  {
   "cell_type": "code",
   "execution_count": null,
   "metadata": {},
   "outputs": [],
   "source": [
    "# Prioritised queue"
   ]
  },
  {
   "cell_type": "code",
   "execution_count": 35,
   "metadata": {},
   "outputs": [
    {
     "name": "stdout",
     "output_type": "stream",
     "text": [
      "3\n",
      "Insert 2\n",
      "Insert 3\n",
      "ExtractMax\n",
      "3\n"
     ]
    }
   ],
   "source": [
    "import sys\n",
    "\n",
    "a = []\n",
    "\n",
    "def swapPositions(lst, pos1, pos2): \n",
    "    get = lst[pos1], lst[pos2]        \n",
    "    lst[pos2], lst[pos1] = get    \n",
    "    return lst\n",
    "\n",
    "def insert(num, l_n):\n",
    "    a.append(num)\n",
    "    i = l_n-1            \n",
    "    while (i > 0) & (a[int((i-1)/2)] < a[i]):\n",
    "        swapPositions(a, i , int((i-1)/2))\n",
    "        i = int((i-1)/2)\n",
    "\n",
    "def ex_max(a, l_n):    \n",
    "    if l_n <= 0:\n",
    "        return \"Nothing to extract\"\n",
    "    elif l_n == 1:\n",
    "        return a.pop()\n",
    "    else:\n",
    "        root = a.pop(0)\n",
    "        a.insert(0, a.pop())\n",
    "        i = 0\n",
    "        while (2*i + 1) < (l_n-1):\n",
    "            left = 2*i + 1\n",
    "            right = 2*i + 2\n",
    "            j = left\n",
    "            if (right < (l_n-1)):\n",
    "                if (a[right] > a[left]):\n",
    "                    j = right\n",
    "            if a[i] >= a[j]:\n",
    "                break\n",
    "            swapPositions(a, i, j)\n",
    "            i = j\n",
    "        return root\n",
    "\n",
    "n = int(input())\n",
    "\n",
    "len_ar = 0\n",
    "\n",
    "for i in range(1, n+1):\n",
    "    command = input().split()\n",
    "    if command[0] == 'Insert':\n",
    "        len_ar += 1\n",
    "        insert(int(command[1]), len_ar)\n",
    "    elif command[0] == 'ExtractMax':\n",
    "        print(ex_max(a, len_ar))\n",
    "        len_ar -= 1\n",
    "    else:\n",
    "        print('Please enter command')"
   ]
  },
  {
   "cell_type": "code",
   "execution_count": null,
   "metadata": {},
   "outputs": [],
   "source": [
    "# Binary Search"
   ]
  },
  {
   "cell_type": "code",
   "execution_count": null,
   "metadata": {},
   "outputs": [],
   "source": [
    "ans = []\n",
    "\n",
    "def binary_search(A, x):\n",
    "    l = 1\n",
    "    r = len(A)\n",
    "    while l <= r:\n",
    "        m = int((l+r)/2)\n",
    "        if A[m-1] == x:\n",
    "            return m \n",
    "        elif A[m-1] > x:\n",
    "            r = m-1\n",
    "        else:\n",
    "            l = m+1\n",
    "    return -1\n",
    "\n",
    "n, *A = map(int, input().split())\n",
    "k, *B = map(int, input().split())\n",
    "\n",
    "for i in range(k):\n",
    "    ans.append(binary_search(A, B[i]))\n",
    "\n",
    "print(*ans)"
   ]
  },
  {
   "cell_type": "code",
   "execution_count": null,
   "metadata": {},
   "outputs": [],
   "source": [
    "# Merge sort + count inversions"
   ]
  },
  {
   "cell_type": "code",
   "execution_count": 86,
   "metadata": {},
   "outputs": [
    {
     "name": "stdout",
     "output_type": "stream",
     "text": [
      "5\n",
      "2 3 9 2 9\n",
      "2\n"
     ]
    }
   ],
   "source": [
    "from math import ceil\n",
    "import numpy as np\n",
    "\n",
    "cnt = 0\n",
    "\n",
    "def merge(a_list, b_list, const):\n",
    "    temp = const\n",
    "    l_a = const\n",
    "    l_b = const\n",
    "    a_idx = 0\n",
    "    b_idx = 0\n",
    "    global cnt\n",
    "    Q = []\n",
    "    while (l_a > 0) | (l_b > 0):\n",
    "        if l_a == 0:\n",
    "            Q += b_list[b_idx:]\n",
    "            b_idx += 1\n",
    "            l_b = 0\n",
    "        elif l_b == 0:\n",
    "            Q += a_list[a_idx:]\n",
    "            a_idx += 1\n",
    "            l_a = 0\n",
    "        elif a_list[a_idx] > b_list[b_idx]:\n",
    "            Q += [b_list[b_idx]]\n",
    "            cnt += (temp - a_idx)\n",
    "            b_idx += 1\n",
    "            l_b -= 1\n",
    "        else:\n",
    "            Q += [a_list[a_idx]]\n",
    "            a_idx += 1\n",
    "            l_a -= 1\n",
    "            \n",
    "    return Q \n",
    "\n",
    "a = int(input())\n",
    "k = 2**(ceil(np.log2(a)))\n",
    "A = [[0] for i in range(k-a) if k>a] + [[j] for j in map(int, input().split())]  \n",
    "\n",
    "cur_pow = 0\n",
    "\n",
    "while k > 1:\n",
    "    len_a = 2**cur_pow\n",
    "    Qu = []\n",
    "    for i in range(0, k, 2):\n",
    "        Qu.append(merge(A[i], A[i+1], len_a))\n",
    "    A = Qu\n",
    "    cur_pow += 1\n",
    "    k = int(k / 2)\n",
    "\n",
    "print(cnt)"
   ]
  },
  {
   "cell_type": "code",
   "execution_count": null,
   "metadata": {},
   "outputs": [],
   "source": [
    "# Quick sort (to be completed for O(n log(n))"
   ]
  },
  {
   "cell_type": "code",
   "execution_count": 16,
   "metadata": {},
   "outputs": [
    {
     "name": "stdout",
     "output_type": "stream",
     "text": [
      "2 3\n",
      "0 5\n",
      "7 10\n",
      "1 6 11\n",
      "1 0 0 "
     ]
    }
   ],
   "source": [
    "n, m = map(int, input().split())\n",
    "sections = []\n",
    "\n",
    "for i in range(n):\n",
    "    a, b = map(int, input().split())\n",
    "    sections.append((a, b))\n",
    "\n",
    "dots = [*map(int, input().split())]\n",
    "\n",
    "for dot in dots:\n",
    "    cnt = 0\n",
    "    for section in sections:\n",
    "        if (dot > section[0]) & (dot < section[1]):\n",
    "            cnt += 1\n",
    "    print(cnt, end= \" \") "
   ]
  },
  {
   "cell_type": "code",
   "execution_count": null,
   "metadata": {},
   "outputs": [],
   "source": []
  }
 ],
 "metadata": {
  "kernelspec": {
   "display_name": "Python 3",
   "language": "python",
   "name": "python3"
  },
  "language_info": {
   "codemirror_mode": {
    "name": "ipython",
    "version": 3
   },
   "file_extension": ".py",
   "mimetype": "text/x-python",
   "name": "python",
   "nbconvert_exporter": "python",
   "pygments_lexer": "ipython3",
   "version": "3.8.3"
  }
 },
 "nbformat": 4,
 "nbformat_minor": 4
}
